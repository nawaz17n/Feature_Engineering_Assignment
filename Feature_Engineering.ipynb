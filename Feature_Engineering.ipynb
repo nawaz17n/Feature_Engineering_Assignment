{
 "cells": [
  {
   "cell_type": "markdown",
   "metadata": {},
   "source": [
    "## Question-1. What is a parameter?"
   ]
  },
  {
   "cell_type": "markdown",
   "metadata": {},
   "source": [
    "#### Definition:-\n",
    "In the context of feature engineering a parameter refers to a characteristic or attribute of a feature that is used to define or transform the feature in a way that improves the performance of a machine learning model.\n",
    "\n",
    "#### Scaling Parameters:-\n",
    "In feature scaling parameters might include the minimum and maximum values for the mean and standard deviation for standardization.\n",
    "\n",
    "#### Encoding Parameters:\n",
    "In one-hot encoding a parameter might define the number of categories to encode."
   ]
  },
  {
   "cell_type": "markdown",
   "metadata": {},
   "source": [
    "## Question-2. What is correlation?\n",
    "## What does negative correlation mean?\n",
    "\n",
    "### Definition:-\n",
    "Correlation is a statistical measure that describes the strength and direction of a relationship between two variables.\n",
    "### Types of Correlation:\n",
    "\n",
    "#### Positive Correlation: \n",
    "When one variable increases the other variable also tends to increase. For example, height and weight often show a positive correlation.\n",
    "#### Negative Correlation: \n",
    "When one variable increases the other variable tends to decrease. For example, the amount of time spent studying and the number of errors on a test may show a negative correlation.\n"
   ]
  },
  {
   "cell_type": "markdown",
   "metadata": {},
   "source": [
    "## Question-3. Define Machine Learning. What are the main components in Machine Learning?\n",
    "\n",
    "#### Definition of Machine Learning:-\n",
    "Machine Learning (ML) is a subset of artificial intelligence (AI) that focuses on the development of algorithms and statistical models that enable computers to perform specific tasks without explicit instructions. Instead of being programmed to perform a task machine learning systems learn from data, identify patterns, and make decisions based on that data. The goal of machine learning is to enable machines to improve their performance on a task over time as they are exposed to more data.\n",
    "\n",
    "### Main Components of Machine Learning\n",
    "\n",
    "#### Data:\n",
    "##### Training Data: \n",
    "The dataset used to train the machine learning model. It consists of input-output pairs where the model learns to map inputs to the correct outputs.\n",
    "##### Test Data: \n",
    "A separate dataset used to evaluate the performance of the trained model. It helps assess how well the model generalizes to unseen data.\n",
    "##### Validation Data: \n",
    "Sometimes used during training to tune model parameters and prevent overfitting.\n",
    "\n",
    "#### Features:\n",
    "Features are the individual measurable properties of the data. In supervised learning features are the input variables used to make predictions. Feature engineering, the process of selecting, modifying, creating features, is crucial for improving model performance.\n",
    "\n",
    "#### Model:\n",
    "A model is a mathematical representation of the relationship between input features and the output. Different algorithms like linear regression can be used to create models. The choice of model depends on the nature of the data and the specific task.\n",
    "\n",
    "#### Training:\n",
    "The process of feeding the training data into the model and adjusting the model parameters to minimize the error in predictions. This often involves optimization techniques such as gradient descent.\n",
    "\n",
    "#### Evaluation:\n",
    "After training the model is evaluated using test data to access its performance. Common evaluation metrics include accuracy, precision and mean squared error, depending on the type of task like classification, regression, etc.\n",
    "\n",
    "#### Deployment:\n",
    "Once a model is trained and evaluated it can be deployed in a production environment to make predictions on new unseen data. This may involve integrating the model into applications or systems."
   ]
  },
  {
   "cell_type": "markdown",
   "metadata": {},
   "source": [
    "## Question-4.How does loss value help in determining whether the model is good or not?\n",
    "\n",
    "Loss Value is a critical metric in machine learning that quantifies how well a model's predictions align with the actual outcomes. \n",
    "\n",
    "### Types of Loss Functions:\n",
    "Different loss functions are used depending on the type of problem like regression or classification.\n",
    "\n",
    "#### Mean Squared Error (MSE): \n",
    "Used in regression tasks it squares the differences between predicted and actual values penalizing larger errors more heavily.\n",
    "#### Mean Absolute Error (MAE): \n",
    "Also used in regression it takes the absolute differences treating all errors equally.\n",
    "\n",
    "### Overfitting and Underfitting:\n",
    "#### Overfitting: \n",
    "A model may achieve very low loss on training data but perform poorly on unseen data indicating it has learned noise rather than the underlying pattern.\n",
    "#### Underfitting: \n",
    "A model with high loss on both training and test data may not have learned enough from the data, indicating a need for a more complex model or better features.\n",
    "\n",
    "### Evaluation of Model Quality:\n",
    "After training the loss value is evaluated on a separate test dataset to assess how well the model generalizes to new data.\n",
    "A significant difference between training loss and test loss can indicate issues such as overfitting."
   ]
  },
  {
   "cell_type": "markdown",
   "metadata": {},
   "source": [
    "## Question-5. What are continuous and categorical variables?\n",
    "\n",
    "In statistics and data analysis, variables are classified into different types based on their nature and the type of data they represent. Two common types of variables are continuous variables and categorical variables.\n",
    "\n",
    "### Continuous Variables:-\n",
    "Continuous variables are numerical variables that can take an infinite number of values within a given range. \n",
    "\n",
    "#### Characteristics:\n",
    "#### Infinite Possibilities: \n",
    "Continuous variables can take any value within a specified range. For example, height, weight, temperature, and time are continuous variables because they can be measured with great precision.\n",
    "#### Interval and Ratio: \n",
    "Continuous variables can be further classified into interval variables and ratio variables.\n",
    "\n",
    "\n",
    "#### Categorical Variables:-\n",
    "Categorical variables are variables that represent distinct categories or groups. They can take on a limited fixed number of possible values which are often labels or names.\n",
    "\n",
    "#### Characteristics:\n",
    "#### Discrete Categories: \n",
    "Categorical variables can only take on specific values which represent different categories. They cannot be measured on a numerical scale.\n",
    "#### Nominal and Ordinal: \n",
    "Categorical variables can be further classified into nominal variables and ordinal variables ."
   ]
  },
  {
   "cell_type": "markdown",
   "metadata": {},
   "source": [
    "## Question-6. How do we handle categorical variables in Machine Learning? What are the common techniques?\n",
    "\n",
    "Handling categorical variables is an essential step in preparing data for machine learning models, as many algorithms require numerical input.\n",
    "\n",
    "### 1. Label Encoding\n",
    "This technique assigns a unique integer to each category in the variable. For example, if a categorical variable has three categories: \"Red,\" \"Green,\" and \"Blue,\" they might be encoded as 0, 1, and 2, respectively.\n",
    "#### Use Case: \n",
    "Label encoding is suitable for ordinal categorical variables where the categories have a meaningful order like \"Low,\" \"Medium,\" \"High\".\n",
    "#### Limitations: \n",
    "For nominal variables label encoding can introduce unintended ordinal relationships which may misslead the model.\n",
    "### 2. One-Hot Encoding\n",
    "This technique creates binary columns for each category in the variable. For example the categories \"Red,\" \"Green,\" and \"Blue\" would be transformed into three binary columns:\n",
    "Red: [1, 0, 0]\n",
    "Green: [0, 1, 0]\n",
    "Blue: [0, 0, 1]\n",
    "#### Use Case: \n",
    "One-hot encoding is suitable for nominal categorical variables where there is no inherent order.\n",
    "#### Limitations: \n",
    "This method can lead to a high-dimensional feature space, especially if the categorical variable has many unique categories.\n",
    "### 3. Binary Encoding\n",
    "This technique combines aspects of label encoding and one-hot encoding. Each category is first converted to an integer like label encoding and then that integer is converted to binary code. \n",
    "#### Use Case: \n",
    "Binary encoding is useful when dealing with high cardinality categorical variables as it reduces the dimensionality compared to one-hot encoding.\n",
    "#### Limitations: \n",
    "It may still introduce some ordinal relationships and the interpretation of the binary columns can be less intuitive."
   ]
  },
  {
   "cell_type": "markdown",
   "metadata": {},
   "source": [
    "## Question-7.What do you mean by training and testing a dataset?\n",
    "In machine learning, the terms training dataset and testing dataset refer to two distinct subsets of data used during the model development process. They serve different purposes and are crucial for building and evaluating machine learning models effectively.\n",
    "\n",
    "### Training Dataset\n",
    "The training dataset is the portion of the data used to train the machine learning model. It consists of input-output pairs, where the model learns to map inputs features to the correct outputs labels or target values.\n",
    "\n",
    "### Testing Dataset\n",
    "The testing dataset is a separate portion of the data that is not used during the training phase. It is used to evaluate the performance of the trained model.\n",
    "\n",
    "#### Model Evaluation: \n",
    "The primary goal of the testing dataset is to access how well the model generalizes to unseen data. It provides an unbiased evaluation of the model's performance.\n",
    "#### Performance Metrics: \n",
    "By comparing the model's predictions on the testing dataset with the actual outcomes, various performance metrics can be calculated to determine the model's effectiveness."
   ]
  },
  {
   "cell_type": "markdown",
   "metadata": {},
   "source": [
    "## Question-8. What is sklearn.preprocessing?\n",
    "\n",
    "sklearn.preprocessing is a module within the Scikit-learn library, which is a popular machine learning library in Python. This module provides various functions and classes for preprocessing data before it is fed into machine learning algorithms. \n",
    "\n",
    "### StandardScaler:\n",
    "#### Purpose: \n",
    "Standardizes features by removing the mean and scaling to unit variance. This is useful when features have different units or scales.\n",
    "#### Usage: \n",
    "StandardScaler().fit_transform(X) where X is the input data.\n",
    "\n",
    "### MinMaxScaler:\n",
    "#### Purpose: \n",
    "Scales features to a specified range, usually [0, 1]. This is useful for algorithms that require bounded input.\n",
    "#### Usage: \n",
    "MinMaxScaler().fit_transform(X).\n",
    "\n",
    "### OneHotEncoder:\n",
    "#### Purpose: \n",
    "Converts categorical variables into a format that can be provided to machine learning algorithms to do a better job in prediction. It creates binary columns for each category.\n",
    "#### Usage: \n",
    "OneHotEncoder().fit_transform(X).\n",
    "\n",
    "### LabelEncoder:\n",
    "#### Purpose: \n",
    "Converts categorical labels into integers. This is useful for ordinal categorical variables.\n",
    "#### Usage: \n",
    "LabelEncoder().fit_transform(y) where y is the target variable.\n",
    "\n",
    "### OrdinalEncoder:\n",
    "#### Purpose: \n",
    "Encodes categorical features as ordinal integers. It is similar to LabelEncoder but is used for multiple columns.\n",
    "#### Usage: \n",
    "OrdinalEncoder().fit_transform(X).\n",
    "\n",
    "### PolynomialFeatures:\n",
    "#### Purpose: \n",
    "Generates polynomial and interaction features. This is useful for creating non-linear relationships in linear models.\n",
    "#### Usage: \n",
    "PolynomialFeatures(degree=2).fit_transform(X).\n"
   ]
  },
  {
   "cell_type": "markdown",
   "metadata": {},
   "source": [
    "## Question-9. What is a Test set?\n",
    "\n",
    "A test set is a subset of data used to evaluate the performance of a machine learning model after it has been trained. It is a crucial component of the machine learning workflow, as it provides an unbiased assessment of how well the model generalizes to new, unseen data.\n",
    "\n",
    "### Separation from Training Data:\n",
    "The test set is distinct from the training set which is used to train the model. This separation is essential to ensure that the evaluation of the model's performance is not influenced by the data it has already seen.\n",
    "\n",
    "### Unseen Data:\n",
    "The test set consists of data that the model has not encountered during the training process. This allows for a fair evaluation of the model's ability to make predictions on new data.\n",
    "\n",
    "### Performance Evaluation:\n",
    "The primary purpose of the test set is to assess the model's performance using various metrics such as accuracy, precision, mean squared error, etc. These metrics help determine how well the model is likely to perform in real-world scenarios.\n",
    "\n",
    "### Size:\n",
    "The size of the test set can vary depending on the overall dataset and the specific use case. A common practice is to allocate around 20-30% of the total dataset for testing, although this can vary based on the amount of available data and the complexity of the problem.\n",
    "\n",
    "### Model Selection and Hyperparameter Tuning:\n",
    "While the test set is used for final evaluation it is important to note that it should not be used during the model selection or hyperparameter tuning process. Instead a separate validation set is often used for these purposes to avoid overfitting to the test data."
   ]
  },
  {
   "cell_type": "markdown",
   "metadata": {},
   "source": [
    "## Question-10. How do we split data for model fitting (training and testing) in Python?\n",
    "## How do you approach a Machine Learning problem?\n",
    "\n",
    "### Splitting Data for Model Fitting in Python\n",
    "Particularly when using the Scikit-learn library we can easily split our dataset into training and testing sets using the train_test_split function from the sklearn.model_selection module."
   ]
  },
  {
   "cell_type": "code",
   "execution_count": 5,
   "metadata": {},
   "outputs": [],
   "source": [
    "import pandas as pd\n",
    "from sklearn.datasets import load_diabetes"
   ]
  },
  {
   "cell_type": "code",
   "execution_count": 14,
   "metadata": {},
   "outputs": [],
   "source": [
    "data = load_diabetes()"
   ]
  },
  {
   "cell_type": "code",
   "execution_count": 16,
   "metadata": {},
   "outputs": [],
   "source": [
    "df = pd.DataFrame(data.data, columns=data.feature_names)"
   ]
  },
  {
   "cell_type": "code",
   "execution_count": 17,
   "metadata": {},
   "outputs": [],
   "source": [
    "df['target'] = data.target"
   ]
  },
  {
   "cell_type": "code",
   "execution_count": 18,
   "metadata": {},
   "outputs": [],
   "source": [
    "X = df[['age','sex','bmi','bp','s1','s2','s3','s4','s5','s6']]"
   ]
  },
  {
   "cell_type": "code",
   "execution_count": 19,
   "metadata": {},
   "outputs": [],
   "source": [
    "Y = df['target']"
   ]
  },
  {
   "cell_type": "code",
   "execution_count": 10,
   "metadata": {},
   "outputs": [],
   "source": [
    "from sklearn.model_selection import train_test_split"
   ]
  },
  {
   "cell_type": "code",
   "execution_count": 20,
   "metadata": {},
   "outputs": [],
   "source": [
    "\n",
    "X_train, X_test, y_train, y_test = train_test_split(X, Y, test_size=0.2, random_state=1)"
   ]
  },
  {
   "cell_type": "code",
   "execution_count": 21,
   "metadata": {},
   "outputs": [
    {
     "data": {
      "text/plain": [
       "((353, 10), (89, 10))"
      ]
     },
     "execution_count": 21,
     "metadata": {},
     "output_type": "execute_result"
    }
   ],
   "source": [
    "X_train.shape,X_test.shape"
   ]
  },
  {
   "cell_type": "code",
   "execution_count": 22,
   "metadata": {},
   "outputs": [
    {
     "data": {
      "text/plain": [
       "((353,), (89,))"
      ]
     },
     "execution_count": 22,
     "metadata": {},
     "output_type": "execute_result"
    }
   ],
   "source": [
    "y_train.shape, y_test.shape"
   ]
  },
  {
   "cell_type": "markdown",
   "metadata": {},
   "source": [
    "### Approach to a Machine Learning Problem\n",
    "\n",
    "#### Define the Problem:\n",
    "Clearly define the problem you are trying to solve. Is it a classification, regression, clustering, or another type of problem Understanding the objective is crucial.\n",
    "\n",
    "#### Collect Data:\n",
    "Gather the necessary data for your problem. This could involve collecting data from various sources, such as databases, APIs, or web scraping.\n",
    "\n",
    "#### Explore and Understand the Data:\n",
    "Perform exploratory data analysis (EDA) to understand the data's structure, distribution, and relationships. Use visualizations and summary statistics to gain insights.\n",
    "\n",
    "#### Preprocess the Data:\n",
    "Clean the data by handling missing values, removing duplicates, and correcting inconsistencies.\n",
    "Transform the data as needed, which may include encoding categorical variables, scaling numerical features, and normalizing data.\n",
    "\n",
    "#### Split the Data:\n",
    "Divide the dataset into training and testing sets using techniques like train_test_split.\n",
    "\n",
    "#### Select a Model:\n",
    "Choose an appropriate machine learning algorithm based on the problem type and the nature of the data. Common algorithms include linear regression, decision trees, support vector machines etc.\n",
    "\n",
    "#### Train the Model:\n",
    "Fit the model to the training data. This involves using the training set to allow the model to learn the underlying patterns.\n",
    "\n",
    "#### Evaluate the Model:\n",
    "Use the test set to evaluate the model's performance. Calculate relevant metrics to access how well the model generalizes to unseen data.\n",
    "\n",
    "#### Make Predictions:\n",
    "Once satisfied with the model's performance, use it to make predictions on new data.\n",
    "\n",
    "#### Deploy the Model:\n",
    "If the model performs well, deploy it in a production environment where it can be used to make predictions on real-world data.\n",
    "\n"
   ]
  },
  {
   "cell_type": "markdown",
   "metadata": {},
   "source": [
    "## Question-11. Why do we have to perform EDA before fitting a model to the data?\n",
    "\n",
    "Exploratory Data Analysis (EDA) is a critical step in the data science and machine learning workflow. It involves analyzing and visualizing the data to understand its structure, patterns, and relationships before fitting a model. Here are several reasons why performing EDA is essential:\n",
    "\n",
    "### 1. Understanding the Data\n",
    "EDA helps you understand the types of data you have  numerical, categorical and their distributions. This understanding is crucial for selecting appropriate preprocessing techniques and models.\n",
    "\n",
    "### 2. Identifying Data Quality Issues\n",
    "#### Missing Values: \n",
    "EDA allows you to detect missing values in the dataset. Understanding the extent and pattern of missing data is essential for deciding how to handle it .\n",
    "#### Outliers: \n",
    "Identifying outliers can help you understand whether they are errors, anomalies, or valid extreme values. Outliers can significantly affect model performance, so knowing their presence is crucial.\n",
    "#### Inconsistencies: \n",
    "EDA can reveal inconsistencies in the data, such as duplicate records or incorrect data types, which need to be addressed before modeling.\n",
    "### 3. Feature Engineering Opportunities\n",
    "#### Creating New Features: \n",
    "EDA can help identify opportunities for feature engineering, such as creating interaction terms, aggregating features, or transforming variables .\n",
    "#### Encoding Categorical Variables: \n",
    "Understanding the distribution of categorical variables can guide you in choosing the right encoding techniques like one-hot encoding, label encoding.\n",
    "### 4. Choosing the Right Model\n",
    "#### Model Selection: \n",
    "Different models have different assumptions about the data. EDA helps you understand the underlying patterns and distributions, which can inform your choice of model .\n",
    "#### Understanding Relationships: \n",
    "Visualizations can help you identify linear or non-linear relationships, which can guide the selection of appropriate algorithms.\n",
    "### 5. Hypothesis Generation\n",
    "#### Formulating Hypotheses: \n",
    "EDA can help generate hypotheses about the data, which can be tested during modeling. For example, you might hypothesize that certain features are correlated with the target variable based on visualizations.\n",
    "### 6. Improving Model Performance\n",
    "#### Data Transformation: \n",
    "Insights gained from EDA can lead to better data transformations, which can improve model performance. For example, normalizing or scaling features based on their distributions can enhance the training process.\n",
    "#### Feature Selection: \n",
    "EDA can help identify irrelevant or redundant features, allowing you to focus on the most important variables, which can lead to simpler and more interpretable models.\n",
    "### 7. Communicating Insights\n",
    "#### Visualization: \n",
    "EDA provides visualizations that can help communicate findings to stakeholders. Clear visual representations of data can facilitate discussions about the data and the modeling approach."
   ]
  },
  {
   "cell_type": "markdown",
   "metadata": {},
   "source": [
    "## Question-12. What is correlation?\n",
    "\n",
    "Correlation is a statistical measure that describes the strength and direction of a relationship between two variables. It quantifies how changes in one variable are associated with changes in another variable. Correlation is commonly used in statistics and data analysis to identify and understand relationships between different datasets.\n",
    "### Types of Correlation:\n",
    "\n",
    "#### Positive Correlation: \n",
    "When one variable increases the other variable also tends to increase. For example, height and weight often show a positive correlation.\n",
    "#### Negative Correlation: \n",
    "When one variable increases the other variable tends to decrease. For example, the amount of time spent studying and the number of errors on a test may show a negative correlation.\n",
    "\n"
   ]
  },
  {
   "cell_type": "markdown",
   "metadata": {},
   "source": [
    "## Question-13. What does negative correlation mean?\n",
    "\n",
    "Negative correlation refers to a statistical relationship between two variables in which one variable increases while the other variable decreases. In other words, when one variable moves in one direction the other variable tends to move in the opposite direction. This type of correlation indicates an inverse relationship between the two variables.\n",
    "\n",
    "\n",
    "### Correlation Coefficient:\n",
    "The strength and direction of a negative correlation are quantified using a correlation coefficient, which ranges from -1 to 0 for negative correlations.\n",
    "A correlation coefficient close to -1 indicates a strong negative correlation, meaning that as one variable increases, the other decreases in a consistent manner.\n",
    "A correlation coefficient close to 0 indicates a weak negative correlation, meaning that there is little to no linear relationship between the two variables.\n",
    "\n",
    "### Graphical Representation:\n",
    "Negative correlation can be visualized using a scatter plot. In such a plot, points will tend to slope downwards from left to right, indicating that as the value of one variable increases, the value of the other variable decreases.\n",
    "\n",
    "### Examples of Negative Correlation:\n",
    "#### Temperature and Heating Costs: \n",
    "As the temperature increases, the heating costs typically decrease, indicating a negative correlation.\n",
    "#### Exercise and Body Weight: \n",
    "Generally, as the amount of exercise increases, body weight tends to decrease, suggesting a negative correlation.\n",
    "\n",
    "### Interpretation of Negative Correlation\n",
    "#### Inverse Relationship: \n",
    "A negative correlation suggests that the two variables are inversely related. Understanding this relationship can be useful in various fields, such as economics, psychology, and health sciences.\n",
    "#### Predictive Insights: \n",
    "In predictive modeling, recognizing a negative correlation can help in understanding how changes in one variable may affect another, which can be valuable for decision-making and strategy development."
   ]
  },
  {
   "cell_type": "markdown",
   "metadata": {},
   "source": [
    "## Question-14. How can you find correlation between variables in Python?\n",
    "\n",
    "We can find the correlation between variables using Pandas and NumPy.\n",
    "\n",
    "### Using Pandas\n",
    "Pandas provides a convenient way to calculate correlation using the corr() method on DataFrames."
   ]
  },
  {
   "cell_type": "code",
   "execution_count": 23,
   "metadata": {},
   "outputs": [],
   "source": [
    "import pandas as pd"
   ]
  },
  {
   "cell_type": "code",
   "execution_count": 38,
   "metadata": {},
   "outputs": [],
   "source": [
    "data = {\n",
    "    'A': [1, 2, 3, 4, 5],\n",
    "    'B': [5, 4, 3, 2, 1],\n",
    "    'C': [2, 3, 4, 5, 6]\n",
    "}\n"
   ]
  },
  {
   "cell_type": "code",
   "execution_count": 39,
   "metadata": {},
   "outputs": [],
   "source": [
    "df = pd.DataFrame(data)"
   ]
  },
  {
   "cell_type": "code",
   "execution_count": 40,
   "metadata": {},
   "outputs": [
    {
     "data": {
      "text/html": [
       "<div>\n",
       "<style scoped>\n",
       "    .dataframe tbody tr th:only-of-type {\n",
       "        vertical-align: middle;\n",
       "    }\n",
       "\n",
       "    .dataframe tbody tr th {\n",
       "        vertical-align: top;\n",
       "    }\n",
       "\n",
       "    .dataframe thead th {\n",
       "        text-align: right;\n",
       "    }\n",
       "</style>\n",
       "<table border=\"1\" class=\"dataframe\">\n",
       "  <thead>\n",
       "    <tr style=\"text-align: right;\">\n",
       "      <th></th>\n",
       "      <th>A</th>\n",
       "      <th>B</th>\n",
       "      <th>C</th>\n",
       "    </tr>\n",
       "  </thead>\n",
       "  <tbody>\n",
       "    <tr>\n",
       "      <th>A</th>\n",
       "      <td>1.0</td>\n",
       "      <td>-1.0</td>\n",
       "      <td>1.0</td>\n",
       "    </tr>\n",
       "    <tr>\n",
       "      <th>B</th>\n",
       "      <td>-1.0</td>\n",
       "      <td>1.0</td>\n",
       "      <td>-1.0</td>\n",
       "    </tr>\n",
       "    <tr>\n",
       "      <th>C</th>\n",
       "      <td>1.0</td>\n",
       "      <td>-1.0</td>\n",
       "      <td>1.0</td>\n",
       "    </tr>\n",
       "  </tbody>\n",
       "</table>\n",
       "</div>"
      ],
      "text/plain": [
       "     A    B    C\n",
       "A  1.0 -1.0  1.0\n",
       "B -1.0  1.0 -1.0\n",
       "C  1.0 -1.0  1.0"
      ]
     },
     "execution_count": 40,
     "metadata": {},
     "output_type": "execute_result"
    }
   ],
   "source": [
    "correlation_matrix = df.corr()\n",
    "correlation_matrix"
   ]
  },
  {
   "cell_type": "markdown",
   "metadata": {},
   "source": [
    "### Using NumPy\n",
    "You can also use NumPy to calculate the correlation coefficient between two variables using the numpy.corrcoef() function."
   ]
  },
  {
   "cell_type": "code",
   "execution_count": 41,
   "metadata": {},
   "outputs": [],
   "source": [
    "import numpy as np"
   ]
  },
  {
   "cell_type": "code",
   "execution_count": 42,
   "metadata": {},
   "outputs": [],
   "source": [
    "A = np.array([1, 2, 3, 4, 5])\n",
    "B = np.array([5, 4, 3, 2, 1])"
   ]
  },
  {
   "cell_type": "code",
   "execution_count": 43,
   "metadata": {},
   "outputs": [
    {
     "data": {
      "text/plain": [
       "array([[ 1., -1.],\n",
       "       [-1.,  1.]])"
      ]
     },
     "execution_count": 43,
     "metadata": {},
     "output_type": "execute_result"
    }
   ],
   "source": [
    "correlation_coefficient = np.corrcoef(A, B)\n",
    "correlation_coefficient"
   ]
  },
  {
   "cell_type": "markdown",
   "metadata": {},
   "source": [
    "### Using Seaborn for Visualization\n",
    "We can also visualize the correlation matrix using the Seaborn library, which provides a heatmap for better interpretation."
   ]
  },
  {
   "cell_type": "code",
   "execution_count": 44,
   "metadata": {},
   "outputs": [],
   "source": [
    "import seaborn as sns\n",
    "import matplotlib.pyplot as plt\n",
    "data = {\n",
    "    'A': [1, 2, 3, 4, 5],\n",
    "    'B': [5, 4, 3, 2, 1],\n",
    "    'C': [2, 3, 4, 5, 6]\n",
    "}\n",
    "df = pd.DataFrame(data)\n",
    "correlation_matrix = df.corr()"
   ]
  },
  {
   "cell_type": "code",
   "execution_count": 45,
   "metadata": {},
   "outputs": [
    {
     "name": "stderr",
     "output_type": "stream",
     "text": [
      "C:\\Users\\K L SATAPATHY\\AppData\\Local\\Temp\\ipykernel_24580\\497603529.py:5: UserWarning: No artists with labels found to put in legend.  Note that artists whose label start with an underscore are ignored when legend() is called with no argument.\n",
      "  plt.legend()\n"
     ]
    },
    {
     "data": {
      "image/png": "[encoded data removed]",
      "text/plain": [
       "<Figure size 640x480 with 2 Axes>"
      ]
     },
     "metadata": {},
     "output_type": "display_data"
    }
   ],
   "source": [
    "sns.heatmap(correlation_matrix, annot=True, cmap='coolwarm', fmt=\".2f\")\n",
    "plt.title('Correlation Matrix')\n",
    "plt.xlabel(\"X-axis\")\n",
    "plt.ylabel(\"Y-axis\")\n",
    "plt.legend()\n",
    "plt.show()"
   ]
  },
  {
   "cell_type": "markdown",
   "metadata": {},
   "source": [
    "## Question-15.What is causation? Explain difference between correlation and causation with an example."
   ]
  },
  {
   "cell_type": "markdown",
   "metadata": {},
   "source": [
    "Causation refers to a relationship between two variables where one variable directly influences or causes a change in another variable\n",
    "\n",
    "### Key Characteristics of Causation\n",
    "#### Directionality:- \n",
    "Causation implies a directional influence, meaning that one variable  leads to a change in another variable .\n",
    "#### Temporal Precedence:- \n",
    "For causation to be established the cause must occur before the effect in time.\n",
    "#### Control of Confounding Variables:- \n",
    "To establish causation it is essential to control for other variables that might influence the relationship between the two variables being studied.\n",
    "\n",
    "### Difference Between Correlation and Causation\n",
    "\n",
    "#### Definition:-\n",
    "##### Correlation:- \n",
    "A statistical measure that describes the strength and direction of a relationship between two variables. Correlation does not imply that one variable causes the other to change.\n",
    "##### Causation:- \n",
    "Indicates that one variable directly affects another. It implies a cause-and-effect relationship.\n",
    "\n",
    "### Examples:-\n",
    "\n",
    "#### Correlation Example:-\n",
    "There may be a correlation between ice cream sales and the number of people swimming at the beach. As ice cream sales increase, the number of people swimming also increases.\n",
    "#### Causation Example:-\n",
    "Smoking is known to cause lung cancer. In this case, there is a direct cause-and-effect relationship: the act of smoking leads to changes in lung tissue that can result in cancer .\n",
    "\n",
    "### Example to Illustrate the Difference:-\n",
    "\n",
    "#### Correlation Example\n",
    "##### Observation: \n",
    "There is a correlation between the number of hours studied and exam scores. As the number of hours studied increases, exam scores tend to increase.\n",
    "##### Interpretation: \n",
    "While there is a correlation, it does not necessarily mean that studying more hours directly causes higher exam scores. Other factors, such as the quality of study materials, the student's prior knowledge, and test-taking skills, may also play a significant role.\n",
    "\n",
    "#### Causation Example\n",
    "##### Observation: \n",
    "A study finds that increasing physical activity leads to weight loss.\n",
    "##### Interpretation: \n",
    "In this case we can establish causation because increasing physical activity leads to changes in energy expenditure and metabolism, resulting in weight loss ."
   ]
  },
  {
   "cell_type": "markdown",
   "metadata": {},
   "source": [
    "## Question-16. What is an Optimizer? What are different types of optimizers? Explain each with an example.\n",
    "\n",
    "An optimizer is an algorithm or method used in machine learning and deep learning to adjust the parameters of a model in order to minimize the loss function. The loss function quantifies how well the model's predictions match the actual data. By optimizing the parameters, the optimizer helps improve the model's performance on the given task.\n",
    "\n",
    "### Types of Optimizers\n",
    "There are several types of optimizers, each with its own approach to updating model parameters.\n",
    "\n",
    "* Stochastic Gradient Descent (SGD)\n",
    "* Momentum\n",
    "* Nesterov Accelerated Gradient (NAG)\n",
    "* Adagrad\n",
    "* RMSprop\n",
    "* Adam\n",
    "* AdamW\n",
    "* FTRL (Follow The Regularized Leader)"
   ]
  },
  {
   "cell_type": "markdown",
   "metadata": {},
   "source": [
    "#### 1. Stochastic Gradient Descent (SGD)\n",
    "SGD updates the model parameters using the gradient of the loss function with respect to the parameters. It does this for each training example, which can lead to faster convergence but also introduces noise in the updates."
   ]
  },
  {
   "cell_type": "code",
   "execution_count": null,
   "metadata": {},
   "outputs": [],
   "source": [
    "from keras.optimizers import SGD\n",
    "optimizer = SGD(learning_rate=0.01)\n",
    "\n",
    "model.compile(optimizer=optimizer, loss='mean_squared_error')"
   ]
  },
  {
   "cell_type": "markdown",
   "metadata": {},
   "source": [
    "#### 2. Momentum\n",
    "Momentum builds on SGD by adding a fraction of the previous update to the current update. This helps accelerate gradients in the right direction and dampens oscillations."
   ]
  },
  {
   "cell_type": "code",
   "execution_count": null,
   "metadata": {},
   "outputs": [],
   "source": [
    "from keras.optimizers import SGD\n",
    "\n",
    "optimizer = SGD(learning_rate=0.01, momentum=0.9)\n",
    "\n",
    "model.compile(optimizer=optimizer, loss='mean_squared_error')"
   ]
  },
  {
   "cell_type": "markdown",
   "metadata": {},
   "source": [
    "#### 3. Nesterov Accelerated Gradient (NAG)\n",
    "NAG is a variant of momentum that looks ahead to where the parameters will be after the momentum update. This can lead to more accurate updates."
   ]
  },
  {
   "cell_type": "code",
   "execution_count": null,
   "metadata": {},
   "outputs": [],
   "source": [
    "from keras.optimizers import SGD\n",
    "\n",
    "optimizer = SGD(learning_rate=0.01, momentum=0.9, nesterov=True)\n",
    "\n",
    "model.compile(optimizer=optimizer, loss='mean_squared_error')"
   ]
  },
  {
   "cell_type": "markdown",
   "metadata": {},
   "source": [
    "#### 4. Adagrad\n",
    "Adagrad adapts the learning rate for each parameter based on the historical gradients. Parameters with larger gradients get smaller learning rates, while those with smaller gradients get larger learning rates."
   ]
  },
  {
   "cell_type": "code",
   "execution_count": null,
   "metadata": {},
   "outputs": [],
   "source": [
    "from keras.optimizers import Adagrad\n",
    "\n",
    "optimizer = Adagrad(learning_rate=0.01)\n",
    "\n",
    "model.compile(optimizer=optimizer, loss='mean_squared_error')"
   ]
  },
  {
   "cell_type": "markdown",
   "metadata": {},
   "source": [
    "#### 5. RMSprop\n",
    "RMSprop modifies Adagrad to reduce the learning rate over time. It uses a moving average of squared gradients to normalize the gradients, which helps in dealing with non-stationary objectives."
   ]
  },
  {
   "cell_type": "code",
   "execution_count": null,
   "metadata": {},
   "outputs": [],
   "source": [
    "from keras.optimizers import RMSprop\n",
    "\n",
    "optimizer = RMSprop(learning_rate=0.01)\n",
    "\n",
    "model.compile(optimizer=optimizer, loss='mean_squared_error')"
   ]
  },
  {
   "cell_type": "markdown",
   "metadata": {},
   "source": [
    "#### 6. Adam (Adaptive Moment Estimation)\n",
    "Adam combines the advantages of both RMSprop and momentum. It maintains a moving average of both the gradients and the squared gradients, allowing for adaptive learning rates."
   ]
  },
  {
   "cell_type": "code",
   "execution_count": null,
   "metadata": {},
   "outputs": [],
   "source": [
    "from keras.optimizers import Adam\n",
    "\n",
    "optimizer = Adam(learning_rate=0.001)\n",
    "\n",
    "model.compile(optimizer=optimizer, loss='mean_squared_error')"
   ]
  },
  {
   "cell_type": "markdown",
   "metadata": {},
   "source": [
    "#### 7. AdamW\n",
    "Description: AdamW is a variant of Adam that decouples weight decay from the optimization steps. This allows for better regularization and can lead to improved performance."
   ]
  },
  {
   "cell_type": "code",
   "execution_count": null,
   "metadata": {},
   "outputs": [],
   "source": [
    "from keras.optimizers import Adam\n",
    "\n",
    "optimizer = Adam(learning_rate=0.001, weight_decay=0.01)\n",
    "\n",
    "model.compile(optimizer=optimizer, loss='mean_squared_error')"
   ]
  },
  {
   "cell_type": "markdown",
   "metadata": {},
   "source": [
    "#### 8. FTRL (Follow The Regularized Leader)\n",
    "Description: FTRL is an online learning algorithm that is particularly useful for large-scale problems. It combines ideas from both SGD and regularization."
   ]
  },
  {
   "cell_type": "code",
   "execution_count": null,
   "metadata": {},
   "outputs": [],
   "source": [
    "from tensorflow.python.training import ftrl\n",
    "\n",
    "optimizer = ftrl.FtrlOptimizer(learning_rate=0.01)\n",
    "\n",
    "model.compile(optimizer=optimizer,loss = 'mean_squared_error')"
   ]
  },
  {
   "cell_type": "markdown",
   "metadata": {},
   "source": [
    "## Question-17. What is sklearn.linear_model ?"
   ]
  },
  {
   "cell_type": "markdown",
   "metadata": {},
   "source": [
    "sklearn.linear_model is a module within the scikit-learn library, which is a popular machine learning library in Python. This module provides a variety of linear models for regression and classification tasks. Linear models are based on the assumption that the relationship between the input features and the target variable can be expressed as a linear combination of the input features.\n",
    "\n",
    "### Key Features of sklearn.linear_model\n",
    "#### Linear Regression: \n",
    "Models that predict a continuous target variable based on one or more input features.\n",
    "#### Logistic Regression: \n",
    "Used for binary classification tasks, predicting the probability that a given input belongs to a particular class.\n",
    "#### Regularization: \n",
    "Many models in this module support regularization techniques (like L1 and L2 regularization) to prevent overfitting.\n",
    "#### Support for Multi-class Classification: \n",
    "Some models can handle multi-class classification problems."
   ]
  },
  {
   "cell_type": "markdown",
   "metadata": {},
   "source": [
    "## Question-18. What does model.fit() do? What arguments must be given?"
   ]
  },
  {
   "cell_type": "markdown",
   "metadata": {},
   "source": [
    "The model.fit() method in scikit-learn is used to train a machine learning model on a given dataset .This method adjust the model's parameters based on the training data, allowing it to learn the underlying patterns in the data. The fit() method is a crucial step in the machine learning workflow, as it prepares the model for making predictions.\n",
    "\n",
    "### Required Arguments for model.fit()\n",
    "\n",
    "#### X:\n",
    "This is the input feature matrix. It contains the training data, where each row represents a sample and each column represents a feature.\n",
    "\n",
    "#### y:\n",
    "This is the target variable (or labels) corresponding to the input features. It contains the output values that the model is trying to predict.\n"
   ]
  },
  {
   "cell_type": "markdown",
   "metadata": {},
   "source": [
    "## Question-19. What does model.predict() do? What arguments must be given?"
   ]
  },
  {
   "cell_type": "markdown",
   "metadata": {},
   "source": [
    "The model.predict() method in scikit-learn is used to make predictions based on the trained model. After a model has been fitted to the training data using the fit() method we can use predict() to generate output for new, unseen data."
   ]
  },
  {
   "cell_type": "markdown",
   "metadata": {},
   "source": [
    "### Required Arguments for model.predict()\n",
    "\n",
    "#### X:\n",
    "This is the input feature matrix for which you want to make predictions. It should contain the same number of features as the training data used in the fit() method."
   ]
  },
  {
   "cell_type": "markdown",
   "metadata": {},
   "source": [
    "## Question-20. What are continuous and categorical variables?"
   ]
  },
  {
   "cell_type": "markdown",
   "metadata": {},
   "source": [
    "In statistics and data analysis, variables are classified into different types based on their nature and the type of data they represent. Two common types of variables are continuous variables and categorical variables.\n",
    "\n",
    "### Continuous Variables:-\n",
    "Continuous variables are numerical variables that can take an infinite number of values within a given range. \n",
    "\n",
    "#### Characteristics:\n",
    "#### Infinite Possibilities: \n",
    "Continuous variables can take any value within a specified range. For example, height, weight, temperature, and time are continuous variables because they can be measured with great precision.\n",
    "#### Interval and Ratio: \n",
    "Continuous variables can be further classified into interval variables and ratio variables.\n",
    "\n",
    "\n",
    "#### Categorical Variables:-\n",
    "Categorical variables are variables that represent distinct categories or groups. They can take on a limited fixed number of possible values which are often labels or names.\n",
    "\n",
    "#### Characteristics:\n",
    "#### Discrete Categories: \n",
    "Categorical variables can only take on specific values which represent different categories. They cannot be measured on a numerical scale.\n",
    "#### Nominal and Ordinal: \n",
    "Categorical variables can be further classified into nominal variables and ordinal variables ."
   ]
  },
  {
   "cell_type": "markdown",
   "metadata": {},
   "source": [
    "## Question-21. What is feature scaling? How does it help in Machine Learning?"
   ]
  },
  {
   "cell_type": "markdown",
   "metadata": {},
   "source": [
    "Feature scaling is a technique used in machine learning to standardize the range of independent variables or features of the data. In many machine learning algorithms, the scale of the features can significantly impact the performance of the model. Feature scaling ensures that each feature contributes equally to the distance calculations and optimization processes, which can lead to better model performance and faster convergence during training.\n",
    "\n",
    "### Why Feature Scaling is Important\n",
    "#### Distance-Based Algorithms: \n",
    "Algorithms like k-Nearest Neighbors (k-NN) and Support Vector Machines (SVM) rely on distance calculations. If one feature has a much larger range than others, it can dominate the distance metric, leading to biased results.\n",
    "\n",
    "#### Gradient Descent Optimization: \n",
    "In algorithms that use gradient descent like linear regression features with larger ranges can cause the optimization process to converge slowly or get stuck in local minima. Scaling helps to ensure that the gradients are more uniform across features.\n",
    "\n",
    "#### Regularization: \n",
    "In models that include regularization like Lasso and Ridge regression, feature scaling ensures that the regularization term penalizes all features equally, regardless of their original scale.\n",
    "\n",
    "#### Improved Model Performance: \n",
    "Properly scaled features can lead to improved accuracy and performance of the model, as the model can learn more effectively from the data."
   ]
  },
  {
   "cell_type": "markdown",
   "metadata": {},
   "source": [
    "### Min-Max Scaling (Normalization):\n",
    "This technique scales the features to a fixed range, usually [0, 1].\n",
    "Formula: $$  X' = \\frac{X - X_{min}}{X_{max} - X_{min}}  $$\n",
    "Use Case: Useful when the distribution of the data is not Gaussian and when you want to preserve the relationships between the data points."
   ]
  },
  {
   "cell_type": "code",
   "execution_count": null,
   "metadata": {},
   "outputs": [],
   "source": [
    "from sklearn.preprocessing import MinMaxScaler\n",
    "\n",
    "scaler = MinMaxScaler()\n",
    "X_scaled = scaler.fit_transform(X)"
   ]
  },
  {
   "cell_type": "markdown",
   "metadata": {},
   "source": [
    "### Standardization (Z-score Normalization):\n",
    "\n",
    "This technique scales the features to have a mean of 0 and a standard deviation of 1.\n",
    "Formula: $$  X' = \\frac{X - \\mu}{\\sigma}  $$\n",
    "Use Case: Useful when the data follows a Gaussian distribution. It is less sensitive to outliers compared to Min-Max scaling."
   ]
  },
  {
   "cell_type": "code",
   "execution_count": 48,
   "metadata": {},
   "outputs": [],
   "source": [
    "from sklearn.preprocessing import StandardScaler\n",
    "\n",
    "scaler = StandardScaler()\n",
    "X_scaled = scaler.fit_transform(X)"
   ]
  },
  {
   "cell_type": "markdown",
   "metadata": {},
   "source": [
    "### Robust Scaling:\n",
    "\n",
    "This technique scales the features using statistics that are robust to outliers, such as the median and the interquartile range (IQR).\n",
    "Formula: $$ X' = \\frac{X - \\text{median}}{\\text{IQR}} $$\n",
    "Use Case: Useful when the dataset contains outliers."
   ]
  },
  {
   "cell_type": "code",
   "execution_count": 49,
   "metadata": {},
   "outputs": [],
   "source": [
    "from sklearn.preprocessing import RobustScaler\n",
    "\n",
    "scaler = RobustScaler()\n",
    "X_scaled = scaler.fit_transform(X)"
   ]
  },
  {
   "cell_type": "markdown",
   "metadata": {},
   "source": [
    "## Question-22. How do we perform scaling in Python?"
   ]
  },
  {
   "cell_type": "markdown",
   "metadata": {},
   "source": [
    "feature scaling can be easily performed using the scikit-learn library, which provides several preprocessing classes specifically designed for this purpose. \n",
    "\n",
    "### 1. Min-Max Scaling (Normalization)\n",
    "Min-Max scaling transforms features to a fixed range, usually [0, 1]. This is done using the MinMaxScaler class from sklearn.preprocessing"
   ]
  },
  {
   "cell_type": "code",
   "execution_count": 51,
   "metadata": {},
   "outputs": [
    {
     "name": "stdout",
     "output_type": "stream",
     "text": [
      "Original Data:\n",
      " [[1 2]\n",
      " [2 3]\n",
      " [4 5]\n",
      " [5 6]]\n",
      "Scaled Data (Min-Max):\n",
      " [[0.   0.  ]\n",
      " [0.25 0.25]\n",
      " [0.75 0.75]\n",
      " [1.   1.  ]]\n"
     ]
    }
   ],
   "source": [
    "import numpy as np\n",
    "from sklearn.preprocessing import MinMaxScaler\n",
    "\n",
    "X = np.array([[1, 2], [2, 3], [4, 5], [5, 6]])\n",
    "\n",
    "scaler = MinMaxScaler()\n",
    "\n",
    "X_scaled = scaler.fit_transform(X)\n",
    "\n",
    "print(\"Original Data:\\n\", X)\n",
    "print(\"Scaled Data (Min-Max):\\n\", X_scaled)"
   ]
  },
  {
   "cell_type": "markdown",
   "metadata": {},
   "source": [
    "### 2. Standardization (Z-score Normalization)\n",
    "Standardization scales features to have a mean of 0 and a standard deviation of 1. This can be done using the StandardScaler class."
   ]
  },
  {
   "cell_type": "code",
   "execution_count": 52,
   "metadata": {},
   "outputs": [
    {
     "name": "stdout",
     "output_type": "stream",
     "text": [
      "Original Data:\n",
      " [[1 2]\n",
      " [2 3]\n",
      " [4 5]\n",
      " [5 6]]\n",
      "Scaled Data (Standardization):\n",
      " [[-1.26491106 -1.26491106]\n",
      " [-0.63245553 -0.63245553]\n",
      " [ 0.63245553  0.63245553]\n",
      " [ 1.26491106  1.26491106]]\n"
     ]
    }
   ],
   "source": [
    "from sklearn.preprocessing import StandardScaler\n",
    "\n",
    "X = np.array([[1, 2], [2, 3], [4, 5], [5, 6]])\n",
    "\n",
    "scaler = StandardScaler()\n",
    "\n",
    "X_scaled = scaler.fit_transform(X)\n",
    "\n",
    "print(\"Original Data:\\n\", X)\n",
    "print(\"Scaled Data (Standardization):\\n\", X_scaled)"
   ]
  },
  {
   "cell_type": "markdown",
   "metadata": {},
   "source": [
    "### 3. Robust Scaling\n",
    "Robust scaling uses the median and the interquartile range (IQR) to scale features, making it robust to outliers. This can be done using the RobustScaler class."
   ]
  },
  {
   "cell_type": "code",
   "execution_count": 53,
   "metadata": {},
   "outputs": [
    {
     "name": "stdout",
     "output_type": "stream",
     "text": [
      "Original Data:\n",
      " [[  1   2]\n",
      " [  2   3]\n",
      " [  4   5]\n",
      " [100   6]]\n",
      "Scaled Data (Robust Scaling):\n",
      " [[-0.07619048 -0.8       ]\n",
      " [-0.03809524 -0.4       ]\n",
      " [ 0.03809524  0.4       ]\n",
      " [ 3.6952381   0.8       ]]\n"
     ]
    }
   ],
   "source": [
    "from sklearn.preprocessing import RobustScaler\n",
    "\n",
    "X = np.array([[1, 2], [2, 3], [4, 5], [100, 6]])\n",
    "\n",
    "scaler = RobustScaler()\n",
    "\n",
    "X_scaled = scaler.fit_transform(X)\n",
    "\n",
    "print(\"Original Data:\\n\", X)\n",
    "print(\"Scaled Data (Robust Scaling):\\n\", X_scaled)"
   ]
  },
  {
   "cell_type": "markdown",
   "metadata": {},
   "source": [
    "### 4. Using Pipelines for Scaling\n",
    "In practice, especially when building machine learning models, it's common to use pipelines to streamline the process of scaling and modeling. This ensures that the same scaling is applied to both training and test datasets."
   ]
  },
  {
   "cell_type": "code",
   "execution_count": 54,
   "metadata": {},
   "outputs": [],
   "source": [
    "from sklearn.pipeline import Pipeline\n",
    "from sklearn.linear_model import LinearRegression\n",
    "from sklearn.model_selection import train_test_split\n",
    "\n",
    "X = np.array([[1, 2], [2, 3], [4, 5], [5, 6], [100, 7]])\n",
    "y = np.array([1, 2, 3, 4, 5])"
   ]
  },
  {
   "cell_type": "code",
   "execution_count": 55,
   "metadata": {},
   "outputs": [],
   "source": [
    "X_train, X_test, y_train, y_test = train_test_split(X, y, test_size=0.2, random_state=1)"
   ]
  },
  {
   "cell_type": "code",
   "execution_count": 56,
   "metadata": {},
   "outputs": [],
   "source": [
    "\n",
    "pipeline = Pipeline([\n",
    "    ('scaler', StandardScaler()), \n",
    "    ('model', LinearRegression())\n",
    "])"
   ]
  },
  {
   "cell_type": "code",
   "execution_count": 57,
   "metadata": {},
   "outputs": [
    {
     "name": "stdout",
     "output_type": "stream",
     "text": [
      "Predictions on Test Data:\n",
      " [3.30769231]\n"
     ]
    }
   ],
   "source": [
    "pipeline.fit(X_train, y_train)\n",
    "\n",
    "predictions = pipeline.predict(X_test)\n",
    "\n",
    "print(\"Predictions on Test Data:\\n\", predictions)"
   ]
  },
  {
   "cell_type": "markdown",
   "metadata": {},
   "source": [
    "## Question-23. What is sklearn.preprocessing?"
   ]
  },
  {
   "cell_type": "markdown",
   "metadata": {},
   "source": [
    "sklearn.preprocessing is a module within the Scikit-learn library, which is a popular machine learning library in Python. This module provides various functions and classes for preprocessing data before it is fed into machine learning algorithms. \n",
    "\n",
    "### StandardScaler:\n",
    "#### Purpose: \n",
    "Standardizes features by removing the mean and scaling to unit variance. This is useful when features have different units or scales.\n",
    "#### Usage: \n",
    "StandardScaler().fit_transform(X) where X is the input data.\n",
    "\n",
    "### MinMaxScaler:\n",
    "#### Purpose: \n",
    "Scales features to a specified range, usually [0, 1]. This is useful for algorithms that require bounded input.\n",
    "#### Usage: \n",
    "MinMaxScaler().fit_transform(X).\n",
    "\n",
    "### OneHotEncoder:\n",
    "#### Purpose: \n",
    "Converts categorical variables into a format that can be provided to machine learning algorithms to do a better job in prediction. It creates binary columns for each category.\n",
    "#### Usage: \n",
    "OneHotEncoder().fit_transform(X).\n",
    "\n",
    "### LabelEncoder:\n",
    "#### Purpose: \n",
    "Converts categorical labels into integers. This is useful for ordinal categorical variables.\n",
    "#### Usage: \n",
    "LabelEncoder().fit_transform(y) where y is the target variable.\n",
    "\n",
    "### OrdinalEncoder:\n",
    "#### Purpose: \n",
    "Encodes categorical features as ordinal integers. It is similar to LabelEncoder but is used for multiple columns.\n",
    "#### Usage: \n",
    "OrdinalEncoder().fit_transform(X).\n",
    "\n",
    "### PolynomialFeatures:\n",
    "#### Purpose: \n",
    "Generates polynomial and interaction features. This is useful for creating non-linear relationships in linear models.\n",
    "#### Usage: \n",
    "PolynomialFeatures(degree=2).fit_transform(X).\n"
   ]
  },
  {
   "cell_type": "markdown",
   "metadata": {},
   "source": [
    "## Question-24. How do we split data for model fitting (training and testing) in Python?"
   ]
  },
  {
   "cell_type": "markdown",
   "metadata": {},
   "source": [
    "particularly when using the scikit-learn library, you can easily split your dataset into training and testing sets using the train_test_split function from the sklearn.model_selection module. This function allows you to randomly partition your data into two subsets: one for training the model and the other for testing its performance."
   ]
  },
  {
   "cell_type": "code",
   "execution_count": 58,
   "metadata": {},
   "outputs": [],
   "source": [
    "import numpy as np\n",
    "import pandas as pd\n",
    "from sklearn.model_selection import train_test_split\n",
    "\n",
    "df = pd.DataFrame({\n",
    "    'feature1': [1, 2, 3, 4, 5, 6, 7, 8],\n",
    "    'feature2': [2, 3, 4, 5, 6, 7, 8, 9],\n",
    "    'target': [0, 0, 1, 1, 1, 0, 0, 1]\n",
    "})\n",
    "X = df[['feature1', 'feature2']]\n",
    "y = df['target']\n",
    "\n",
    "X_train, X_test, y_train, y_test = train_test_split(X, y, test_size=0.2, random_state=1)"
   ]
  },
  {
   "cell_type": "code",
   "execution_count": 60,
   "metadata": {},
   "outputs": [
    {
     "name": "stdout",
     "output_type": "stream",
     "text": [
      "Training Features:\n",
      "    feature1  feature2\n",
      "1         2         3\n",
      "6         7         8\n",
      "0         1         2\n",
      "4         5         6\n",
      "3         4         5\n",
      "5         6         7\n",
      "Testing Features:\n",
      "    feature1  feature2\n",
      "7         8         9\n",
      "2         3         4\n",
      "Training Target:\n",
      " 1    0\n",
      "6    0\n",
      "0    0\n",
      "4    1\n",
      "3    1\n",
      "5    0\n",
      "Name: target, dtype: int64\n",
      "Testing Target:\n",
      " 7    1\n",
      "2    1\n",
      "Name: target, dtype: int64\n"
     ]
    }
   ],
   "source": [
    "print(\"Training Features:\\n\", X_train)\n",
    "print(\"Testing Features:\\n\", X_test)\n",
    "print(\"Training Target:\\n\", y_train)\n",
    "print(\"Testing Target:\\n\", y_test)"
   ]
  },
  {
   "cell_type": "markdown",
   "metadata": {},
   "source": [
    "## Question-25. Explain data encoding?"
   ]
  },
  {
   "cell_type": "markdown",
   "metadata": {},
   "source": [
    "Data encoding is a crucial preprocessing step in machine learning and data analysis, particularly when dealing with categorical variables. Since most machine learning algorithms require numerical input, encoding transforms categorical data into a numerical format that can be used for modeling. \n",
    "\n",
    "### Types of Categorical Variables\n",
    "#### Nominal Variables: \n",
    "These are categorical variables without any inherent order. Examples include gender, color, and nationality.\n",
    "#### Ordinal Variables: \n",
    "These are categorical variables with a meaningful order or ranking. Examples include education level and satisfaction ratings.\n",
    "\n",
    "### Common Encoding Techniques\n",
    "#### Label Encoding:\n",
    "This technique assigns a unique integer to each category in a categorical variable. It is suitable for ordinal variables where the order matters.\n",
    "Example:\n",
    "* Categories: ['Low', 'Medium', 'High']\n",
    "* Encoded: {'Low': 0, 'Medium': 1, 'High': 2}"
   ]
  },
  {
   "cell_type": "code",
   "execution_count": 62,
   "metadata": {},
   "outputs": [
    {
     "data": {
      "text/plain": [
       "array([1, 2, 0, 2, 1])"
      ]
     },
     "execution_count": 62,
     "metadata": {},
     "output_type": "execute_result"
    }
   ],
   "source": [
    "from sklearn.preprocessing import LabelEncoder\n",
    "\n",
    "categories = ['Low', 'Medium', 'High', 'Medium', 'Low']\n",
    "\n",
    "label_encoder = LabelEncoder()\n",
    "\n",
    "encoded_labels = label_encoder.fit_transform(categories)\n",
    "\n",
    "encoded_labels"
   ]
  },
  {
   "cell_type": "markdown",
   "metadata": {},
   "source": [
    "#### One-Hot Encoding:\n",
    "This technique creates binary (0 or 1) columns for each category in a categorical variable. It is suitable for nominal variables where there is no inherent order.\n",
    "Example:\n",
    "* Categories: ['Red', 'Green', 'Blue']\n"
   ]
  },
  {
   "cell_type": "code",
   "execution_count": 69,
   "metadata": {},
   "outputs": [
    {
     "data": {
      "text/html": [
       "<div>\n",
       "<style scoped>\n",
       "    .dataframe tbody tr th:only-of-type {\n",
       "        vertical-align: middle;\n",
       "    }\n",
       "\n",
       "    .dataframe tbody tr th {\n",
       "        vertical-align: top;\n",
       "    }\n",
       "\n",
       "    .dataframe thead th {\n",
       "        text-align: right;\n",
       "    }\n",
       "</style>\n",
       "<table border=\"1\" class=\"dataframe\">\n",
       "  <thead>\n",
       "    <tr style=\"text-align: right;\">\n",
       "      <th></th>\n",
       "      <th>Color_Blue</th>\n",
       "      <th>Color_Green</th>\n",
       "      <th>Color_Red</th>\n",
       "    </tr>\n",
       "  </thead>\n",
       "  <tbody>\n",
       "    <tr>\n",
       "      <th>0</th>\n",
       "      <td>0</td>\n",
       "      <td>0</td>\n",
       "      <td>1</td>\n",
       "    </tr>\n",
       "    <tr>\n",
       "      <th>1</th>\n",
       "      <td>0</td>\n",
       "      <td>1</td>\n",
       "      <td>0</td>\n",
       "    </tr>\n",
       "    <tr>\n",
       "      <th>2</th>\n",
       "      <td>1</td>\n",
       "      <td>0</td>\n",
       "      <td>0</td>\n",
       "    </tr>\n",
       "    <tr>\n",
       "      <th>3</th>\n",
       "      <td>0</td>\n",
       "      <td>1</td>\n",
       "      <td>0</td>\n",
       "    </tr>\n",
       "  </tbody>\n",
       "</table>\n",
       "</div>"
      ],
      "text/plain": [
       "   Color_Blue  Color_Green  Color_Red\n",
       "0           0            0          1\n",
       "1           0            1          0\n",
       "2           1            0          0\n",
       "3           0            1          0"
      ]
     },
     "execution_count": 69,
     "metadata": {},
     "output_type": "execute_result"
    }
   ],
   "source": [
    "import pandas as pd\n",
    "\n",
    "df = pd.DataFrame({'Color': ['Red', 'Green', 'Blue', 'Green']})\n",
    "\n",
    "one_hot_encoded = pd.get_dummies(df, columns=['Color']).astype(int)\n",
    "\n",
    "one_hot_encoded\n",
    "\n",
    "\n"
   ]
  },
  {
   "cell_type": "markdown",
   "metadata": {},
   "source": [
    "### Binary Encoding:\n",
    "This technique combines the properties of label encoding and one-hot encoding. It first converts categories into integers and then converts those integers into binary code. Each binary digit is then treated as a separate feature.\n",
    "Example:\n",
    "* Categories: ['Red', 'Green', 'Blue']\n"
   ]
  },
  {
   "cell_type": "code",
   "execution_count": null,
   "metadata": {},
   "outputs": [],
   "source": [
    "from category_encoders import BinaryEncoder\n",
    "\n",
    "df = pd.DataFrame({'Color': ['Red', 'Green', 'Blue', 'Green']})\n",
    "\n",
    "binary_encoder = BinaryEncoder()\n",
    "\n",
    "binary_encoded = binary_encoder.fit_transform(df['Color'])\n",
    "\n",
    "print(binary_encoded)"
   ]
  },
  {
   "cell_type": "markdown",
   "metadata": {},
   "source": [
    "### Target Encoding:\n",
    "\n",
    "This technique replaces each category with the mean of the target variable for that category. It is particularly useful for high-cardinality categorical variables.\n",
    "Example:\n",
    "* Categories: ['A', 'B', 'A', 'C']\n",
    "* Target: [1, 0, 1, 0]\n"
   ]
  },
  {
   "cell_type": "code",
   "execution_count": 71,
   "metadata": {},
   "outputs": [
    {
     "data": {
      "text/html": [
       "<div>\n",
       "<style scoped>\n",
       "    .dataframe tbody tr th:only-of-type {\n",
       "        vertical-align: middle;\n",
       "    }\n",
       "\n",
       "    .dataframe tbody tr th {\n",
       "        vertical-align: top;\n",
       "    }\n",
       "\n",
       "    .dataframe thead th {\n",
       "        text-align: right;\n",
       "    }\n",
       "</style>\n",
       "<table border=\"1\" class=\"dataframe\">\n",
       "  <thead>\n",
       "    <tr style=\"text-align: right;\">\n",
       "      <th></th>\n",
       "      <th>Category</th>\n",
       "      <th>Target_Encoded</th>\n",
       "    </tr>\n",
       "  </thead>\n",
       "  <tbody>\n",
       "    <tr>\n",
       "      <th>0</th>\n",
       "      <td>A</td>\n",
       "      <td>1.0</td>\n",
       "    </tr>\n",
       "    <tr>\n",
       "      <th>1</th>\n",
       "      <td>B</td>\n",
       "      <td>0.0</td>\n",
       "    </tr>\n",
       "    <tr>\n",
       "      <th>2</th>\n",
       "      <td>C</td>\n",
       "      <td>0.0</td>\n",
       "    </tr>\n",
       "  </tbody>\n",
       "</table>\n",
       "</div>"
      ],
      "text/plain": [
       "  Category  Target_Encoded\n",
       "0        A             1.0\n",
       "1        B             0.0\n",
       "2        C             0.0"
      ]
     },
     "execution_count": 71,
     "metadata": {},
     "output_type": "execute_result"
    }
   ],
   "source": [
    "import pandas as pd\n",
    "\n",
    "df = pd.DataFrame({'Category': ['A', 'B', 'A', 'C'], 'Target': [1, 0, 1, 0]})\n",
    "\n",
    "target_encoded = df.groupby('Category')['Target'].mean().reset_index()\n",
    "target_encoded.columns = ['Category', 'Target_Encoded']\n",
    "\n",
    "target_encoded"
   ]
  },
  {
   "cell_type": "markdown",
   "metadata": {},
   "source": [
    "* Label Encoding: Use for ordinal variables where the order matters.\n",
    "* One-Hot Encoding: Use for nominal"
   ]
  },
  {
   "cell_type": "markdown",
   "metadata": {},
   "source": []
  }
 ],
 "metadata": {
  "kernelspec": {
   "display_name": "Python 3",
   "language": "python",
   "name": "python3"
  },
  "language_info": {
   "codemirror_mode": {
    "name": "ipython",
    "version": 3
   },
   "file_extension": ".py",
   "mimetype": "text/x-python",
   "name": "python",
   "nbconvert_exporter": "python",
   "pygments_lexer": "ipython3",
   "version": "3.12.4"
  }
 },
 "nbformat": 4,
 "nbformat_minor": 2
}
